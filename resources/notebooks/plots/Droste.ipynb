version https://git-lfs.github.com/spec/v1
oid sha256:02d6b181fbe3b9869f3d35d989fb6ae107545196d290163f19c37b24b66f860f
size 18471
