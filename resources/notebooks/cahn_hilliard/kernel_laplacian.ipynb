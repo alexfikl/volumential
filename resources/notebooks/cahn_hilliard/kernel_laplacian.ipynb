version https://git-lfs.github.com/spec/v1
oid sha256:18a14c0b4f5c52b31620b41b79cc2c296f846ec07a27ba3a3710f7dcb2fe8b72
size 145006
